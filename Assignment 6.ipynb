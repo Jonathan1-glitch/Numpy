{
  "nbformat": 4,
  "nbformat_minor": 0,
  "metadata": {
    "colab": {
      "name": "SOUMYADEEP HORE - numpy-assignment-6.ipynb",
      "provenance": [],
      "collapsed_sections": []
    },
    "kernelspec": {
      "name": "python3",
      "display_name": "Python 3"
    }
  },
  "cells": [
    {
      "cell_type": "code",
      "metadata": {
        "id": "6PAefYSKHONH",
        "colab_type": "code",
        "colab": {}
      },
      "source": [
        "# You have write a function which takes 2 numpy array as input and returns \"Hoga\" or \"Nahi Hoga\" \n",
        "# depending on if broadcasting is possible on those two arrays"
      ],
      "execution_count": 0,
      "outputs": []
    },
    {
      "cell_type": "code",
      "metadata": {
        "id": "LtPSvg-4HjEv",
        "colab_type": "code",
        "colab": {}
      },
      "source": [
        "#Author:Soumyadeep Hore\n",
        "#Assignment No.:6\n",
        "#Created on: 2nd October,2019 11:44 IST\n",
        "\n",
        "#importing numpy package\n",
        "import numpy as np\n",
        "\n",
        "# function to check whether broadcasting is possible or not\n",
        "def hoga_ki_nahi(arr1,arr2):\n",
        "  \n",
        "  #Using exception handling to check whether broadcasting is possible or not\n",
        "  try:\n",
        "    arr1+arr2\n",
        "  except:\n",
        "    return 'Nahi Hoga'\n",
        "  else:\n",
        "    return 'Hoga'"
      ],
      "execution_count": 0,
      "outputs": []
    },
    {
      "cell_type": "code",
      "metadata": {
        "id": "BGp93pIEHsOG",
        "colab_type": "code",
        "outputId": "1fb1ace0-cb62-4e0a-ebe2-a1d723f8a20b",
        "colab": {
          "base_uri": "https://localhost:8080/",
          "height": 34
        }
      },
      "source": [
        "#Declaring two numpy arrays\n",
        "a=np.array([[1,2,3],2,4])\n",
        "b=np.array([1,2,3])\n",
        "\n",
        "# Testing my function\n",
        "hoga_ki_nahi(a,b)"
      ],
      "execution_count": 0,
      "outputs": [
        {
          "output_type": "execute_result",
          "data": {
            "text/plain": [
              "'Nahi Hoga'"
            ]
          },
          "metadata": {
            "tags": []
          },
          "execution_count": 46
        }
      ]
    },
    {
      "cell_type": "code",
      "metadata": {
        "id": "jz_2U5LRH2xy",
        "colab_type": "code",
        "colab": {}
      },
      "source": [
        "#this is also a function that can check whether two arrays are broadcastable or not but, it doesn't work in the above scenario\n",
        "def is_broadcastable(arr1, arr2):\n",
        "    shp1=arr1.shape\n",
        "    shp2=arr2.shape\n",
        "    for a, b in zip(shp1[::-1], shp2[::-1]):\n",
        "        if a == 1 or b == 1 or a == b:\n",
        "            pass\n",
        "        else:\n",
        "            return \"Nahi Hoga\"\n",
        "    return \"Hoga\""
      ],
      "execution_count": 0,
      "outputs": []
    },
    {
      "cell_type": "code",
      "metadata": {
        "id": "WcFfQysXJcOo",
        "colab_type": "code",
        "outputId": "42f1770c-9bc6-439b-c47a-d3824bd35204",
        "colab": {
          "base_uri": "https://localhost:8080/",
          "height": 34
        }
      },
      "source": [
        "#calling test function\n",
        "is_broadcastable(a,b)"
      ],
      "execution_count": 0,
      "outputs": [
        {
          "output_type": "execute_result",
          "data": {
            "text/plain": [
              "True"
            ]
          },
          "metadata": {
            "tags": []
          },
          "execution_count": 36
        }
      ]
    },
    {
      "cell_type": "code",
      "metadata": {
        "id": "6SB-qSE-LrXU",
        "colab_type": "code",
        "colab": {}
      },
      "source": [
        ""
      ],
      "execution_count": 0,
      "outputs": []
    }
  ]
}