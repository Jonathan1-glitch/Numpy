{
  "nbformat": 4,
  "nbformat_minor": 0,
  "metadata": {
    "colab": {
      "name": "SOUMYADEEP HORE - Linspace.ipynb",
      "provenance": [],
      "collapsed_sections": []
    },
    "kernelspec": {
      "name": "python3",
      "display_name": "Python 3"
    }
  },
  "cells": [
    {
      "cell_type": "code",
      "metadata": {
        "id": "bxoaV2Ike3k0",
        "colab_type": "code",
        "outputId": "0a57c4c2-943f-41bc-dc06-557e0490b2ab",
        "colab": {
          "base_uri": "https://localhost:8080/",
          "height": 105
        }
      },
      "source": [
        "#Assignment No.1\n",
        "#Author:Soumyadeep Hore\n",
        "#Created on:24th September 2019, 9:21 IST\n",
        "\n",
        "#importing numpy package\n",
        "import numpy as np\n",
        "\n",
        "#taking necessary input\n",
        "a=int(input(\"Enter the lower value of range:\"))\n",
        "b=int(input(\"Enter the upper value of range: \"))\n",
        "n=int(input(\"Enter the no. elements to be present in the range:\"))\n",
        "\n",
        "#creating function to mimick linspace() function\n",
        "def create_List(a, b, n):\n",
        "    \n",
        "    #creating list using arange() function\n",
        "    arr1=np.arange(a,b+1,(b-a)/(n-1))\n",
        "    print(\"The range =\",arr1)\n",
        "\n",
        "#calling function create_List()\n",
        "create_List(a,b,n)"
      ],
      "execution_count": 0,
      "outputs": [
        {
          "output_type": "stream",
          "text": [
            "Enter the lower value of range:10\n",
            "Enter the upper value of range: 20\n",
            "Enter the no. elements to be present in the range:10\n",
            "The range = [10.         11.11111111 12.22222222 13.33333333 14.44444444 15.55555556\n",
            " 16.66666667 17.77777778 18.88888889 20.        ]\n"
          ],
          "name": "stdout"
        }
      ]
    }
  ]
}