{
  "nbformat": 4,
  "nbformat_minor": 0,
  "metadata": {
    "colab": {
      "name": "SOUMYADEEP HORE - Shape-and-dimension.ipynb",
      "provenance": [],
      "collapsed_sections": []
    },
    "kernelspec": {
      "name": "python3",
      "display_name": "Python 3"
    }
  },
  "cells": [
    {
      "cell_type": "markdown",
      "metadata": {
        "id": "KS3wCW3hFavq",
        "colab_type": "text"
      },
      "source": [
        "You have to write 2 functions after watching today's videos.\n",
        "\n",
        "1. The first function will accept a Numpy array and return it's shape.\n",
        "   Note:- You can't use the shape attribute\n",
        "   \n",
        "2. The second function will accept a Numpy array and return it's dimension.\n",
        "   Note:- You can't use the ndim attribute"
      ]
    },
    {
      "cell_type": "code",
      "metadata": {
        "id": "FVX4V9FmF8rt",
        "colab_type": "code",
        "outputId": "d2f4fa0d-d230-48b4-84bd-4727d7284e11",
        "colab": {
          "base_uri": "https://localhost:8080/",
          "height": 34
        }
      },
      "source": [
        "#Assignment No.2(1st function)\n",
        "#Author:Soumyadeep Hore\n",
        "#Created on:25th September 2019, 18:15 IST\n",
        "\n",
        "#importing numpy package\n",
        "import numpy as np\n",
        "\n",
        "#taking necessary input\n",
        "arr1=np.array([[[1,2,],[3,4]],[[5,6],[7,8]]])\n",
        "\n",
        "#defining shape_cust function to find shape of nd array\n",
        "def shape_cust(arr1):\n",
        "    \n",
        "    #base case of recursive function shape_cust\n",
        "    if not type(arr1) == np.ndarray:\n",
        "        return[]\n",
        "    \n",
        "    #recursive function call\n",
        "    return [len(arr1)]+shape_cust(arr1[0])\n",
        "\n",
        "#calling shape_cust function\n",
        "shape_cust(arr1)"
      ],
      "execution_count": 0,
      "outputs": [
        {
          "output_type": "execute_result",
          "data": {
            "text/plain": [
              "[2, 2, 2]"
            ]
          },
          "metadata": {
            "tags": []
          },
          "execution_count": 5
        }
      ]
    },
    {
      "cell_type": "code",
      "metadata": {
        "id": "R0KWz8gqGAXW",
        "colab_type": "code",
        "outputId": "312d5127-c5c2-4f47-9aed-785cfb3448ec",
        "colab": {
          "base_uri": "https://localhost:8080/",
          "height": 34
        }
      },
      "source": [
        "#Assignment No.2(2nd Function)\n",
        "#Author:Soumyadeep Hore\n",
        "#Created on:25th September 2019, 22:21 IST\n",
        "\n",
        "#importing numpy package\n",
        "import numpy as np\n",
        "\n",
        "#taking necessary input\n",
        "arr1=np.array([[[1,2,],[3,4]],[[5,6],[7,8]]])\n",
        "\n",
        "#defining dimension function to find dimension of nd array\n",
        "def dimension(arr1):\n",
        "    \n",
        "    #calculating shape of nd array \n",
        "    s=np.array(arr1.shape)\n",
        "    return len(s)\n",
        "\n",
        "#calling dimension function\n",
        "dimension(arr1)"
      ],
      "execution_count": 0,
      "outputs": [
        {
          "output_type": "execute_result",
          "data": {
            "text/plain": [
              "3"
            ]
          },
          "metadata": {
            "tags": []
          },
          "execution_count": 3
        }
      ]
    },
    {
      "cell_type": "code",
      "metadata": {
        "id": "5xmTBXejGDeG",
        "colab_type": "code",
        "colab": {}
      },
      "source": [
        ""
      ],
      "execution_count": 0,
      "outputs": []
    }
  ]
}